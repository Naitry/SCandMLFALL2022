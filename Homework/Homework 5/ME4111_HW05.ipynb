{
 "cells": [
  {
   "cell_type": "markdown",
   "id": "522dcbe5",
   "metadata": {},
   "source": [
    "### ME4111 Scientific Computing and Machine Learning\n",
    "\n",
    "# Homework 5\n",
    "\n",
    "### Due September 28"
   ]
  },
  {
   "cell_type": "code",
   "execution_count": null,
   "id": "a8ecd1b2",
   "metadata": {},
   "outputs": [],
   "source": [
    "from IPython.display import Latex\n",
    "import numpy as np\n",
    "import numpy.linalg as npale\n",
    "import scipy.linalg as spale\n",
    "from matplotlib import pyplot as plt\n"
   ]
  },
  {
   "cell_type": "markdown",
   "id": "09a83ee3",
   "metadata": {},
   "source": [
    "## Problem 1\n",
    "\n",
    "Consider the following system of nonlinear equations:\n",
    "\n",
    "$$ x^2 + y^2 -5 = 0 $$\n",
    "$$ x^2 - y - 1 = 0 $$\n",
    "\n",
    "1. Graph the functions to inspect the locations of the roots. Note: $ x \\in (-\\sqrt{5}, \\sqrt{5}) $\n",
    "2. Use the Newton-Raphson code from Lecture 13 to find the solution(s) to the system of equations. Determine an appropriate initial guess based on your work in #1. Use a tolerance of 0.1%.\n",
    "3. Evaluate the functions at the solution your Newton-Raphson code found. Comment on the results.\n"
   ]
  },
  {
   "cell_type": "code",
   "execution_count": null,
   "id": "1722edc4",
   "metadata": {},
   "outputs": [],
   "source": []
  },
  {
   "cell_type": "code",
   "execution_count": null,
   "id": "1a769464",
   "metadata": {},
   "outputs": [],
   "source": []
  },
  {
   "cell_type": "code",
   "execution_count": null,
   "id": "f7a7db56",
   "metadata": {},
   "outputs": [],
   "source": []
  },
  {
   "cell_type": "markdown",
   "id": "af4e3415",
   "metadata": {},
   "source": [
    "## Problem 2\n",
    "\n",
    "Consider the following system of linear equations:\n",
    "\n",
    "$$ 4x_1 + 3x_2 + x_3 + 0.2x_1 x_2= 2 $$\n",
    "$$ x_1 + 2x_2 + 0.8x_3 + 0.2x_1 x_3 + 0.2x_2^2 = 4 $$\n",
    "$$ 2x_1 + x_2 + 5x_3 + 0.4x_3^2 + 0.5x_2 x_3 = 7 $$\n",
    "    \n",
    "Use Newton-Raphson to find the solution(s) to the system of equations.\n",
    " "
   ]
  },
  {
   "cell_type": "code",
   "execution_count": null,
   "id": "97f1a90f",
   "metadata": {},
   "outputs": [],
   "source": []
  },
  {
   "cell_type": "code",
   "execution_count": null,
   "id": "9d3aeda9",
   "metadata": {},
   "outputs": [],
   "source": []
  },
  {
   "cell_type": "markdown",
   "id": "c1f9cdee",
   "metadata": {},
   "source": [
    "## Problem 3\n",
    "\n",
    "Consider the following system of differential equations\n",
    "\n",
    "$$ m_1 \\frac{d^2 x_1}{dt^2} = -k_1 x_1 + k_2 (x_2 - x_1) $$\n",
    "$$ m_2 \\frac{d^2 x_2}{dt^2} = -k_2 (x_2 - x_1) + k_3 (x_3 - x_2)$$\n",
    "$$ m_3 \\frac{d^2 x_3}{dt^2} = -k_3 (x_3 - x_2) $$\n",
    "\n",
    "where $m_1=12,000$ kg, $m_2=10,000$ kg, $m_3=8,000$ kg, $k_1=3,000$ kN/m, $k_1=2,400$ kN/m, and $k_1=1,800$ kN/m.\n",
    "\n",
    "1. Determine the eigenvalues and eigenvectors for this system.\n",
    "2. Plot the general solution for each variable where the coefficients are all equal to 1.\n",
    "\n",
    "Bonus Question (2 points): Write code to determine the coefficients in the general solution for any arbitrary set of initial conditions. Then plot the solution for each variable for 3 sets of intial conditions. \n"
   ]
  },
  {
   "cell_type": "code",
   "execution_count": null,
   "id": "e850ce45",
   "metadata": {},
   "outputs": [],
   "source": [
    "\n"
   ]
  },
  {
   "cell_type": "code",
   "execution_count": null,
   "id": "124d2b1b",
   "metadata": {},
   "outputs": [],
   "source": []
  },
  {
   "cell_type": "code",
   "execution_count": null,
   "id": "326dca87",
   "metadata": {},
   "outputs": [],
   "source": []
  },
  {
   "cell_type": "code",
   "execution_count": null,
   "id": "eddc5092",
   "metadata": {},
   "outputs": [],
   "source": []
  },
  {
   "cell_type": "code",
   "execution_count": null,
   "id": "725ee3d5",
   "metadata": {},
   "outputs": [],
   "source": []
  },
  {
   "cell_type": "code",
   "execution_count": null,
   "id": "674e5f44",
   "metadata": {},
   "outputs": [],
   "source": []
  },
  {
   "cell_type": "code",
   "execution_count": null,
   "id": "2e307ef7",
   "metadata": {},
   "outputs": [],
   "source": []
  }
 ],
 "metadata": {
  "kernelspec": {
   "display_name": "Python 3 (ipykernel)",
   "language": "python",
   "name": "python3"
  },
  "language_info": {
   "codemirror_mode": {
    "name": "ipython",
    "version": 3
   },
   "file_extension": ".py",
   "mimetype": "text/x-python",
   "name": "python",
   "nbconvert_exporter": "python",
   "pygments_lexer": "ipython3",
   "version": "3.9.12"
  }
 },
 "nbformat": 4,
 "nbformat_minor": 5
}
