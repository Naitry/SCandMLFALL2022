{
 "cells": [
  {
   "cell_type": "markdown",
   "id": "c98ad111",
   "metadata": {},
   "source": [
    "### ME:4111 Scientific Computing and Machine Learning \n",
    "\n",
    "# Homework 6\n",
    "\n",
    "### Due October 5\n"
   ]
  },
  {
   "cell_type": "code",
   "execution_count": 2,
   "id": "56bdb33d",
   "metadata": {},
   "outputs": [],
   "source": [
    "import numpy as np\n",
    "import numpy.linalg as npale\n",
    "import matplotlib.pyplot as plt\n",
    "from IPython.display import Latex\n"
   ]
  },
  {
   "cell_type": "markdown",
   "id": "4d561801",
   "metadata": {},
   "source": [
    "## Problem 1\n",
    "\n",
    "Find the largest (absolute value) eigenvalue and the corresponding eigenvector for the following matrix:\n",
    "\n",
    "\\begin{bmatrix}\n",
    "    2 & 8 & 10\\\\\n",
    "    8 & 4 & 5 \\\\\n",
    "    10& 5 & 7\n",
    "\\end{bmatrix}\n",
    "      \n",
    "1. Use the Power method with the initial guess [1 1 1] and a tolerance 0.001.\n",
    "\n",
    "2. Use the Python eigen solver to verify your results. Comment on any differences. \n"
   ]
  },
  {
   "cell_type": "code",
   "execution_count": null,
   "id": "7b45c8c4",
   "metadata": {},
   "outputs": [],
   "source": []
  },
  {
   "cell_type": "code",
   "execution_count": null,
   "id": "226f7ac9",
   "metadata": {},
   "outputs": [],
   "source": []
  },
  {
   "cell_type": "markdown",
   "id": "a9564e43",
   "metadata": {},
   "source": [
    "# Problem 2\n",
    "\n",
    "Consider the following data:\n",
    "\n",
    "$$ x_i = \\begin{bmatrix} 0.0&2.0&4.0&6.0&9.0&11.0&12.0&15.0&17.0&19.0 \\end{bmatrix}$$\n",
    "\n",
    "$$ y_i = \\begin{bmatrix} 5.0&6.0&7.0&6.0&9.0&8.0&8.0&10.0&12.0&12.0 \\end{bmatrix}$$\n",
    "\t\t\t\t\t\t\t\n",
    "\n",
    "1. Use least-square to fit a straight line to the data (where x is your independent variable). Plot your results.\n",
    "2. Use scipy optimize_curve_fit function to check your results. Plot your results and comment on how it compares with #1.\n"
   ]
  },
  {
   "cell_type": "markdown",
   "id": "fa99dcac",
   "metadata": {},
   "source": [
    "# Problems 3\n",
    "\n",
    "Given the following data\n",
    "\n",
    "$$ x_i = \\begin{bmatrix} 0.4&0.8&1.2&1.6&2.0&2.3 \\end{bmatrix}$$\n",
    "\n",
    "$$ y_i = \\begin{bmatrix} 800.0&985.0&1490.0&1950.0&2850.0&3600.0 \\end{bmatrix}$$\n",
    "\n",
    "\n",
    "1. Use logarithmic linear regression to fit an exponential model (i.e., $y=b_0 e^{b_1 x}$) to the data. Plot your results.\n",
    "\n",
    "2. Use scipy optimize_curve_fit to obtain the parameters b_0 and b_1 directly. Plot your results and comment on how it compares with #1.\n",
    "\n"
   ]
  },
  {
   "cell_type": "code",
   "execution_count": null,
   "id": "944923a3",
   "metadata": {},
   "outputs": [],
   "source": []
  },
  {
   "cell_type": "code",
   "execution_count": null,
   "id": "607642b8",
   "metadata": {},
   "outputs": [],
   "source": []
  }
 ],
 "metadata": {
  "kernelspec": {
   "display_name": "Python 3 (ipykernel)",
   "language": "python",
   "name": "python3"
  },
  "language_info": {
   "codemirror_mode": {
    "name": "ipython",
    "version": 3
   },
   "file_extension": ".py",
   "mimetype": "text/x-python",
   "name": "python",
   "nbconvert_exporter": "python",
   "pygments_lexer": "ipython3",
   "version": "3.9.12"
  }
 },
 "nbformat": 4,
 "nbformat_minor": 5
}
