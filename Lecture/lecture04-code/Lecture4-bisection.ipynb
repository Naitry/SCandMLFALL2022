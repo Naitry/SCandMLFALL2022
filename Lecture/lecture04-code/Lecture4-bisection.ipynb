{
 "cells": [
  {
   "cell_type": "markdown",
   "id": "b5434a9f",
   "metadata": {},
   "source": [
    "# ME:4111 Scientific Computing and Machine Learning \n",
    "# Lecture 4: Bisection and False Position"
   ]
  },
  {
   "cell_type": "markdown",
   "id": "0b7672f0",
   "metadata": {},
   "source": [
    "## Bisection"
   ]
  },
  {
   "cell_type": "code",
   "execution_count": 8,
   "id": "de697182",
   "metadata": {},
   "outputs": [],
   "source": [
    "# Example 1 - Bisection \n",
    "import numpy as np"
   ]
  },
  {
   "cell_type": "code",
   "execution_count": 9,
   "id": "5aaaa12f",
   "metadata": {},
   "outputs": [],
   "source": [
    "# define the function\n",
    "def fcs(x):\n",
    "    return x*x*x-x-1"
   ]
  },
  {
   "cell_type": "code",
   "execution_count": 10,
   "id": "e2469cf2",
   "metadata": {},
   "outputs": [
    {
     "name": "stdout",
     "output_type": "stream",
     "text": [
      "There is at least one solution between 1.3 and 1.4\n",
      " iteration   xl       f(xl)      xr        f(xr)       xu      f(xu)     xrold      err  \n",
      " ---------------------------------------------------------------------------------------------\n",
      "    1    1.30000    -0.10300   1.35000   0.11038   1.40000    0.34400   1.30000   0.50000    (before)\n",
      "         1.30000    -0.10300   1.35000   0.11038   1.35000    0.11038   1.35000   0.50000     (after)\n",
      "    2    1.30000    -0.10300   1.32500   0.00120   1.35000    0.11038   1.35000   0.25000    (before)\n",
      "         1.30000    -0.10300   1.32500   0.00120   1.32500    0.00120   1.32500   0.25000     (after)\n",
      "    3    1.30000    -0.10300   1.31250   -0.05151   1.32500    0.00120   1.32500   0.12500    (before)\n",
      "         1.31250    -0.05151   1.31250   -0.05151   1.32500    0.00120   1.31250   0.12500     (after)\n",
      "    4    1.31250    -0.05151   1.31875   -0.02531   1.32500    0.00120   1.31250   0.06250    (before)\n",
      "         1.31875    -0.02531   1.31875   -0.02531   1.32500    0.00120   1.31875   0.06250     (after)\n",
      "    5    1.31875    -0.02531   1.32188   -0.01209   1.32500    0.00120   1.31875   0.03125    (before)\n",
      "         1.32188    -0.01209   1.32188   -0.01209   1.32500    0.00120   1.32188   0.03125     (after)\n",
      "    6    1.32188    -0.01209   1.32344   -0.00545   1.32500    0.00120   1.32188   0.01563    (before)\n",
      "         1.32344    -0.00545   1.32344   -0.00545   1.32500    0.00120   1.32344   0.01563     (after)\n",
      "    7    1.32344    -0.00545   1.32422   -0.00213   1.32500    0.00120   1.32344   0.00781    (before)\n",
      " ------------------------------------------------------------------------------\n",
      "The solution is 1.3242 at iteration 7.\n"
     ]
    }
   ],
   "source": [
    "# initialization\n",
    "a=1.3\n",
    "b=1.4\n",
    "epstol = 0.01\n",
    "Nmax = 100\n",
    "xl = a\n",
    "xu = b\n",
    "xrold = a\n",
    "\n",
    "# make sure there is at least one solution between a and b\n",
    "if(fcs(a)*fcs(b)<0):\n",
    "    print('There is at least one solution between {} and {}'.format(a,b))\n",
    "else:\n",
    "    print('Solutions are not guaranteed!')\n",
    "\n",
    "# iterations in bisection\n",
    "i=0\n",
    "\n",
    "print(\" iteration   xl       f(xl)      xr        f(xr)       xu      f(xu)     xrold      err  \")\n",
    "print(\" ---------------------------------------------------------------------------------------------\")\n",
    "\n",
    "while (i<Nmax):\n",
    "    i=i+1\n",
    "    xr = (xl + xu)/2.0\n",
    "    relError = np.abs((xr-xrold)/(b-a))\n",
    "    \n",
    "    print(f\"{i:5d}    {xl:1.5f}    {fcs(xl):1.5f}   {xr:1.5f}   {fcs(xr):1.5f}   {xu:1.5f}    {fcs(xu):1.5f}   {xrold:1.5f}   {relError:1.5f}    (before)\")\n",
    "    \n",
    "    if relError < epstol:\n",
    "        strOutput='The solution is {:.4f}'.format(xr)\n",
    "        break;\n",
    "    if fcs(xl)*fcs(xr)<0:\n",
    "        xu = xr\n",
    "    else:\n",
    "        xl = xr\n",
    "    xrold=xr\n",
    "    \n",
    "\n",
    "    print(f\"         {xl:1.5f}    {fcs(xl):1.5f}   {xr:1.5f}   {fcs(xr):1.5f}   {xu:1.5f}    {fcs(xu):1.5f}   {xrold:1.5f}   {relError:1.5f}     (after)\")\n",
    "print(\" ------------------------------------------------------------------------------\")\n",
    "\n",
    "print(strOutput, 'at iteration {}.'.format(i))\n",
    "     \n",
    "    "
   ]
  },
  {
   "cell_type": "code",
   "execution_count": null,
   "id": "abe96066",
   "metadata": {},
   "outputs": [],
   "source": []
  }
 ],
 "metadata": {
  "kernelspec": {
   "display_name": "Python 3 (ipykernel)",
   "language": "python",
   "name": "python3"
  },
  "language_info": {
   "codemirror_mode": {
    "name": "ipython",
    "version": 3
   },
   "file_extension": ".py",
   "mimetype": "text/x-python",
   "name": "python",
   "nbconvert_exporter": "python",
   "pygments_lexer": "ipython3",
   "version": "3.9.12"
  }
 },
 "nbformat": 4,
 "nbformat_minor": 5
}
